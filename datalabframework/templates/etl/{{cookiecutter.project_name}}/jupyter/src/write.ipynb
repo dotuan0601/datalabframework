{
 "cells": [
  {
   "cell_type": "code",
   "execution_count": 1,
   "metadata": {},
   "outputs": [],
   "source": [
    "import datalabframework as dlf"
   ]
  },
  {
   "cell_type": "code",
   "execution_count": 2,
   "metadata": {},
   "outputs": [
    {
     "name": "stdout",
     "output_type": "stream",
     "text": [
      " pyspark-shell\n"
     ]
    },
    {
     "ename": "Py4JJavaError",
     "evalue": "An error occurred while calling None.org.apache.spark.api.java.JavaSparkContext.\n: java.lang.NullPointerException\n\tat org.apache.spark.SparkContext.<init>(SparkContext.scala:558)\n\tat org.apache.spark.api.java.JavaSparkContext.<init>(JavaSparkContext.scala:58)\n\tat sun.reflect.NativeConstructorAccessorImpl.newInstance0(Native Method)\n\tat sun.reflect.NativeConstructorAccessorImpl.newInstance(NativeConstructorAccessorImpl.java:62)\n\tat sun.reflect.DelegatingConstructorAccessorImpl.newInstance(DelegatingConstructorAccessorImpl.java:45)\n\tat java.lang.reflect.Constructor.newInstance(Constructor.java:423)\n\tat py4j.reflection.MethodInvoker.invoke(MethodInvoker.java:247)\n\tat py4j.reflection.ReflectionEngine.invoke(ReflectionEngine.java:357)\n\tat py4j.Gateway.invoke(Gateway.java:238)\n\tat py4j.commands.ConstructorCommand.invokeConstructor(ConstructorCommand.java:80)\n\tat py4j.commands.ConstructorCommand.execute(ConstructorCommand.java:69)\n\tat py4j.GatewayConnection.run(GatewayConnection.java:214)\n\tat java.lang.Thread.run(Thread.java:748)\n",
     "output_type": "error",
     "traceback": [
      "\u001b[0;31m---------------------------------------------------------------------------\u001b[0m",
      "\u001b[0;31mPy4JJavaError\u001b[0m                             Traceback (most recent call last)",
      "\u001b[0;32m<ipython-input-2-ccf413644865>\u001b[0m in \u001b[0;36m<module>\u001b[0;34m()\u001b[0m\n\u001b[0;32m----> 1\u001b[0;31m \u001b[0mengine\u001b[0m \u001b[0;34m=\u001b[0m \u001b[0mdlf\u001b[0m\u001b[0;34m.\u001b[0m\u001b[0mengines\u001b[0m\u001b[0;34m.\u001b[0m\u001b[0mget\u001b[0m\u001b[0;34m(\u001b[0m\u001b[0;34m'spark'\u001b[0m\u001b[0;34m)\u001b[0m\u001b[0;34m\u001b[0m\u001b[0m\n\u001b[0m\u001b[1;32m      2\u001b[0m \u001b[0mspark\u001b[0m \u001b[0;34m=\u001b[0m \u001b[0mengine\u001b[0m\u001b[0;34m.\u001b[0m\u001b[0mcontext\u001b[0m\u001b[0;34m(\u001b[0m\u001b[0;34m)\u001b[0m\u001b[0;34m\u001b[0m\u001b[0m\n",
      "\u001b[0;32m/opt/conda/lib/python3.6/site-packages/datalabframework/engines.py\u001b[0m in \u001b[0;36mget\u001b[0;34m(name)\u001b[0m\n\u001b[1;32m    183\u001b[0m \u001b[0;34m\u001b[0m\u001b[0m\n\u001b[1;32m    184\u001b[0m         \u001b[0;32mif\u001b[0m \u001b[0mcn\u001b[0m\u001b[0;34m[\u001b[0m\u001b[0;34m'context'\u001b[0m\u001b[0;34m]\u001b[0m\u001b[0;34m==\u001b[0m\u001b[0;34m'spark'\u001b[0m\u001b[0;34m:\u001b[0m\u001b[0;34m\u001b[0m\u001b[0m\n\u001b[0;32m--> 185\u001b[0;31m             \u001b[0mengine\u001b[0m \u001b[0;34m=\u001b[0m \u001b[0mSparkEngine\u001b[0m\u001b[0;34m(\u001b[0m\u001b[0mname\u001b[0m\u001b[0;34m,\u001b[0m \u001b[0mconfig\u001b[0m\u001b[0;34m)\u001b[0m\u001b[0;34m\u001b[0m\u001b[0m\n\u001b[0m\u001b[1;32m    186\u001b[0m             \u001b[0mengines\u001b[0m\u001b[0;34m[\u001b[0m\u001b[0mname\u001b[0m\u001b[0;34m]\u001b[0m \u001b[0;34m=\u001b[0m \u001b[0mengine\u001b[0m\u001b[0;34m\u001b[0m\u001b[0m\n\u001b[1;32m    187\u001b[0m \u001b[0;34m\u001b[0m\u001b[0m\n",
      "\u001b[0;32m/opt/conda/lib/python3.6/site-packages/datalabframework/engines.py\u001b[0m in \u001b[0;36m__init__\u001b[0;34m(self, name, config)\u001b[0m\n\u001b[1;32m     44\u001b[0m \u001b[0;34m\u001b[0m\u001b[0m\n\u001b[1;32m     45\u001b[0m         \u001b[0mconf\u001b[0m\u001b[0;34m.\u001b[0m\u001b[0msetMaster\u001b[0m\u001b[0;34m(\u001b[0m\u001b[0mconfig\u001b[0m\u001b[0;34m.\u001b[0m\u001b[0mget\u001b[0m\u001b[0;34m(\u001b[0m\u001b[0;34m'master'\u001b[0m\u001b[0;34m,\u001b[0m \u001b[0;34m'local[*]'\u001b[0m\u001b[0;34m)\u001b[0m\u001b[0;34m)\u001b[0m\u001b[0;34m\u001b[0m\u001b[0m\n\u001b[0;32m---> 46\u001b[0;31m         \u001b[0mself\u001b[0m\u001b[0;34m.\u001b[0m\u001b[0m_ctx\u001b[0m \u001b[0;34m=\u001b[0m \u001b[0mSQLContext\u001b[0m\u001b[0;34m(\u001b[0m\u001b[0mSparkContext\u001b[0m\u001b[0;34m(\u001b[0m\u001b[0mconf\u001b[0m\u001b[0;34m=\u001b[0m\u001b[0mconf\u001b[0m\u001b[0;34m)\u001b[0m\u001b[0;34m)\u001b[0m\u001b[0;34m\u001b[0m\u001b[0m\n\u001b[0m\u001b[1;32m     47\u001b[0m         \u001b[0mself\u001b[0m\u001b[0;34m.\u001b[0m\u001b[0minfo\u001b[0m \u001b[0;34m=\u001b[0m \u001b[0;34m{\u001b[0m\u001b[0;34m'name'\u001b[0m\u001b[0;34m:\u001b[0m \u001b[0mname\u001b[0m\u001b[0;34m,\u001b[0m \u001b[0;34m'context'\u001b[0m\u001b[0;34m:\u001b[0m\u001b[0;34m'spark'\u001b[0m\u001b[0;34m,\u001b[0m \u001b[0;34m'config'\u001b[0m\u001b[0;34m:\u001b[0m \u001b[0mconfig\u001b[0m\u001b[0;34m}\u001b[0m\u001b[0;34m\u001b[0m\u001b[0m\n\u001b[1;32m     48\u001b[0m \u001b[0;34m\u001b[0m\u001b[0m\n",
      "\u001b[0;32m/usr/local/spark/python/pyspark/context.py\u001b[0m in \u001b[0;36m__init__\u001b[0;34m(self, master, appName, sparkHome, pyFiles, environment, batchSize, serializer, conf, gateway, jsc, profiler_cls)\u001b[0m\n\u001b[1;32m    116\u001b[0m         \u001b[0;32mtry\u001b[0m\u001b[0;34m:\u001b[0m\u001b[0;34m\u001b[0m\u001b[0m\n\u001b[1;32m    117\u001b[0m             self._do_init(master, appName, sparkHome, pyFiles, environment, batchSize, serializer,\n\u001b[0;32m--> 118\u001b[0;31m                           conf, jsc, profiler_cls)\n\u001b[0m\u001b[1;32m    119\u001b[0m         \u001b[0;32mexcept\u001b[0m\u001b[0;34m:\u001b[0m\u001b[0;34m\u001b[0m\u001b[0m\n\u001b[1;32m    120\u001b[0m             \u001b[0;31m# If an error occurs, clean up in order to allow future SparkContext creation:\u001b[0m\u001b[0;34m\u001b[0m\u001b[0;34m\u001b[0m\u001b[0m\n",
      "\u001b[0;32m/usr/local/spark/python/pyspark/context.py\u001b[0m in \u001b[0;36m_do_init\u001b[0;34m(self, master, appName, sparkHome, pyFiles, environment, batchSize, serializer, conf, jsc, profiler_cls)\u001b[0m\n\u001b[1;32m    178\u001b[0m \u001b[0;34m\u001b[0m\u001b[0m\n\u001b[1;32m    179\u001b[0m         \u001b[0;31m# Create the Java SparkContext through Py4J\u001b[0m\u001b[0;34m\u001b[0m\u001b[0;34m\u001b[0m\u001b[0m\n\u001b[0;32m--> 180\u001b[0;31m         \u001b[0mself\u001b[0m\u001b[0;34m.\u001b[0m\u001b[0m_jsc\u001b[0m \u001b[0;34m=\u001b[0m \u001b[0mjsc\u001b[0m \u001b[0;32mor\u001b[0m \u001b[0mself\u001b[0m\u001b[0;34m.\u001b[0m\u001b[0m_initialize_context\u001b[0m\u001b[0;34m(\u001b[0m\u001b[0mself\u001b[0m\u001b[0;34m.\u001b[0m\u001b[0m_conf\u001b[0m\u001b[0;34m.\u001b[0m\u001b[0m_jconf\u001b[0m\u001b[0;34m)\u001b[0m\u001b[0;34m\u001b[0m\u001b[0m\n\u001b[0m\u001b[1;32m    181\u001b[0m         \u001b[0;31m# Reset the SparkConf to the one actually used by the SparkContext in JVM.\u001b[0m\u001b[0;34m\u001b[0m\u001b[0;34m\u001b[0m\u001b[0m\n\u001b[1;32m    182\u001b[0m         \u001b[0mself\u001b[0m\u001b[0;34m.\u001b[0m\u001b[0m_conf\u001b[0m \u001b[0;34m=\u001b[0m \u001b[0mSparkConf\u001b[0m\u001b[0;34m(\u001b[0m\u001b[0m_jconf\u001b[0m\u001b[0;34m=\u001b[0m\u001b[0mself\u001b[0m\u001b[0;34m.\u001b[0m\u001b[0m_jsc\u001b[0m\u001b[0;34m.\u001b[0m\u001b[0msc\u001b[0m\u001b[0;34m(\u001b[0m\u001b[0;34m)\u001b[0m\u001b[0;34m.\u001b[0m\u001b[0mconf\u001b[0m\u001b[0;34m(\u001b[0m\u001b[0;34m)\u001b[0m\u001b[0;34m)\u001b[0m\u001b[0;34m\u001b[0m\u001b[0m\n",
      "\u001b[0;32m/usr/local/spark/python/pyspark/context.py\u001b[0m in \u001b[0;36m_initialize_context\u001b[0;34m(self, jconf)\u001b[0m\n\u001b[1;32m    268\u001b[0m         \u001b[0mInitialize\u001b[0m \u001b[0mSparkContext\u001b[0m \u001b[0;32min\u001b[0m \u001b[0mfunction\u001b[0m \u001b[0mto\u001b[0m \u001b[0mallow\u001b[0m \u001b[0msubclass\u001b[0m \u001b[0mspecific\u001b[0m \u001b[0minitialization\u001b[0m\u001b[0;34m\u001b[0m\u001b[0m\n\u001b[1;32m    269\u001b[0m         \"\"\"\n\u001b[0;32m--> 270\u001b[0;31m         \u001b[0;32mreturn\u001b[0m \u001b[0mself\u001b[0m\u001b[0;34m.\u001b[0m\u001b[0m_jvm\u001b[0m\u001b[0;34m.\u001b[0m\u001b[0mJavaSparkContext\u001b[0m\u001b[0;34m(\u001b[0m\u001b[0mjconf\u001b[0m\u001b[0;34m)\u001b[0m\u001b[0;34m\u001b[0m\u001b[0m\n\u001b[0m\u001b[1;32m    271\u001b[0m \u001b[0;34m\u001b[0m\u001b[0m\n\u001b[1;32m    272\u001b[0m     \u001b[0;34m@\u001b[0m\u001b[0mclassmethod\u001b[0m\u001b[0;34m\u001b[0m\u001b[0m\n",
      "\u001b[0;32m/usr/local/spark/python/lib/py4j-0.10.6-src.zip/py4j/java_gateway.py\u001b[0m in \u001b[0;36m__call__\u001b[0;34m(self, *args)\u001b[0m\n\u001b[1;32m   1426\u001b[0m         \u001b[0manswer\u001b[0m \u001b[0;34m=\u001b[0m \u001b[0mself\u001b[0m\u001b[0;34m.\u001b[0m\u001b[0m_gateway_client\u001b[0m\u001b[0;34m.\u001b[0m\u001b[0msend_command\u001b[0m\u001b[0;34m(\u001b[0m\u001b[0mcommand\u001b[0m\u001b[0;34m)\u001b[0m\u001b[0;34m\u001b[0m\u001b[0m\n\u001b[1;32m   1427\u001b[0m         return_value = get_return_value(\n\u001b[0;32m-> 1428\u001b[0;31m             answer, self._gateway_client, None, self._fqn)\n\u001b[0m\u001b[1;32m   1429\u001b[0m \u001b[0;34m\u001b[0m\u001b[0m\n\u001b[1;32m   1430\u001b[0m         \u001b[0;32mfor\u001b[0m \u001b[0mtemp_arg\u001b[0m \u001b[0;32min\u001b[0m \u001b[0mtemp_args\u001b[0m\u001b[0;34m:\u001b[0m\u001b[0;34m\u001b[0m\u001b[0m\n",
      "\u001b[0;32m/usr/local/spark/python/lib/py4j-0.10.6-src.zip/py4j/protocol.py\u001b[0m in \u001b[0;36mget_return_value\u001b[0;34m(answer, gateway_client, target_id, name)\u001b[0m\n\u001b[1;32m    318\u001b[0m                 raise Py4JJavaError(\n\u001b[1;32m    319\u001b[0m                     \u001b[0;34m\"An error occurred while calling {0}{1}{2}.\\n\"\u001b[0m\u001b[0;34m.\u001b[0m\u001b[0;34m\u001b[0m\u001b[0m\n\u001b[0;32m--> 320\u001b[0;31m                     format(target_id, \".\", name), value)\n\u001b[0m\u001b[1;32m    321\u001b[0m             \u001b[0;32melse\u001b[0m\u001b[0;34m:\u001b[0m\u001b[0;34m\u001b[0m\u001b[0m\n\u001b[1;32m    322\u001b[0m                 raise Py4JError(\n",
      "\u001b[0;31mPy4JJavaError\u001b[0m: An error occurred while calling None.org.apache.spark.api.java.JavaSparkContext.\n: java.lang.NullPointerException\n\tat org.apache.spark.SparkContext.<init>(SparkContext.scala:558)\n\tat org.apache.spark.api.java.JavaSparkContext.<init>(JavaSparkContext.scala:58)\n\tat sun.reflect.NativeConstructorAccessorImpl.newInstance0(Native Method)\n\tat sun.reflect.NativeConstructorAccessorImpl.newInstance(NativeConstructorAccessorImpl.java:62)\n\tat sun.reflect.DelegatingConstructorAccessorImpl.newInstance(DelegatingConstructorAccessorImpl.java:45)\n\tat java.lang.reflect.Constructor.newInstance(Constructor.java:423)\n\tat py4j.reflection.MethodInvoker.invoke(MethodInvoker.java:247)\n\tat py4j.reflection.ReflectionEngine.invoke(ReflectionEngine.java:357)\n\tat py4j.Gateway.invoke(Gateway.java:238)\n\tat py4j.commands.ConstructorCommand.invokeConstructor(ConstructorCommand.java:80)\n\tat py4j.commands.ConstructorCommand.execute(ConstructorCommand.java:69)\n\tat py4j.GatewayConnection.run(GatewayConnection.java:214)\n\tat java.lang.Thread.run(Thread.java:748)\n"
     ]
    }
   ],
   "source": [
    "engine = dlf.engines.get('spark')\n",
    "spark = engine.context()"
   ]
  },
  {
   "cell_type": "code",
   "execution_count": 4,
   "metadata": {},
   "outputs": [
    {
     "name": "stdout",
     "output_type": "stream",
     "text": [
      "jdbc:mysql://localhost:3306/mydatabase\n",
      "+----+-------+\n",
      "|name|address|\n",
      "+----+-------+\n",
      "|John|   ohoh|\n",
      "+----+-------+\n",
      "\n"
     ]
    }
   ],
   "source": [
    "df_source = engine.read('.customers')\n",
    "df_source.show()"
   ]
  },
  {
   "cell_type": "code",
   "execution_count": 5,
   "metadata": {},
   "outputs": [
    {
     "name": "stdout",
     "output_type": "stream",
     "text": [
      "+----+-------+\n",
      "|name|address|\n",
      "+----+-------+\n",
      "|John|   ohoh|\n",
      "+----+-------+\n",
      "\n"
     ]
    }
   ],
   "source": [
    "from pyspark.sql.functions import lit\n",
    "df = df_source.withColumn('address', lit('ohoh'))\n",
    "df.show()"
   ]
  },
  {
   "cell_type": "code",
   "execution_count": 6,
   "metadata": {},
   "outputs": [
    {
     "name": "stdout",
     "output_type": "stream",
     "text": [
      "+----+-------+\n",
      "|name|address|\n",
      "+----+-------+\n",
      "|John|   ohoh|\n",
      "+----+-------+\n",
      "\n"
     ]
    }
   ],
   "source": [
    "engine.write(df, '.customers', mode='overwrite')\n",
    "df.show()"
   ]
  },
  {
   "cell_type": "code",
   "execution_count": 7,
   "metadata": {},
   "outputs": [
    {
     "name": "stdout",
     "output_type": "stream",
     "text": [
      "jdbc:mysql://localhost:3306/mydatabase\n",
      "+----+-------+\n",
      "|name|address|\n",
      "+----+-------+\n",
      "|John|   ohoh|\n",
      "+----+-------+\n",
      "\n"
     ]
    }
   ],
   "source": [
    "df_result = engine.read('.customers')\n",
    "df_result.show()"
   ]
  },
  {
   "cell_type": "code",
   "execution_count": 18,
   "metadata": {},
   "outputs": [
    {
     "name": "stdout",
     "output_type": "stream",
     "text": [
      "+-------+----+-------+-----------+-------+--------------------+------------+--------+---------+\n",
      "|TrackId|Name|AlbumId|MediaTypeId|GenreId|            Composer|Milliseconds|   Bytes|UnitPrice|\n",
      "+-------+----+-------+-----------+-------+--------------------+------------+--------+---------+\n",
      "|      1| ooh|      1|          1|      1|Angus Young, Malc...|      343719|11170334|     0.99|\n",
      "|      2| ooh|      2|          2|      1|                null|      342562| 5510424|     0.99|\n",
      "|      3| ooh|      3|          2|      1|F. Baltes, S. Kau...|      230619| 3990994|     0.99|\n",
      "|      4| ooh|      3|          2|      1|F. Baltes, R.A. S...|      252051| 4331779|     0.99|\n",
      "|      5| ooh|      3|          2|      1|Deaffy & R.A. Smi...|      375418| 6290521|     0.99|\n",
      "|      6| ooh|      1|          1|      1|Angus Young, Malc...|      205662| 6713451|     0.99|\n",
      "|      7| ooh|      1|          1|      1|Angus Young, Malc...|      233926| 7636561|     0.99|\n",
      "|      8| ooh|      1|          1|      1|Angus Young, Malc...|      210834| 6852860|     0.99|\n",
      "|      9| ooh|      1|          1|      1|Angus Young, Malc...|      203102| 6599424|     0.99|\n",
      "|     10| ooh|      1|          1|      1|Angus Young, Malc...|      263497| 8611245|     0.99|\n",
      "|     11| ooh|      1|          1|      1|Angus Young, Malc...|      199836| 6566314|     0.99|\n",
      "|     12| ooh|      1|          1|      1|Angus Young, Malc...|      263288| 8596840|     0.99|\n",
      "|     13| ooh|      1|          1|      1|Angus Young, Malc...|      205688| 6706347|     0.99|\n",
      "|     14| ooh|      1|          1|      1|Angus Young, Malc...|      270863| 8817038|     0.99|\n",
      "|     15| ooh|      4|          1|      1|               AC/DC|      331180|10847611|     0.99|\n",
      "|     16| ooh|      4|          1|      1|               AC/DC|      215196| 7032162|     0.99|\n",
      "|     17| ooh|      4|          1|      1|               AC/DC|      366654|12021261|     0.99|\n",
      "|     18| ooh|      4|          1|      1|               AC/DC|      267728| 8776140|     0.99|\n",
      "|     19| ooh|      4|          1|      1|               AC/DC|      325041|10617116|     0.99|\n",
      "|     20| ooh|      4|          1|      1|               AC/DC|      369319|12066294|     0.99|\n",
      "+-------+----+-------+-----------+-------+--------------------+------------+--------+---------+\n",
      "only showing top 20 rows\n",
      "\n"
     ]
    }
   ],
   "source": [
    "df_source = engine.read('.music')\n",
    "df_source.show()"
   ]
  },
  {
   "cell_type": "code",
   "execution_count": 15,
   "metadata": {},
   "outputs": [
    {
     "name": "stdout",
     "output_type": "stream",
     "text": [
      "+-------+----+-------+-----------+-------+--------------------+------------+--------+---------+\n",
      "|TrackId|Name|AlbumId|MediaTypeId|GenreId|            Composer|Milliseconds|   Bytes|UnitPrice|\n",
      "+-------+----+-------+-----------+-------+--------------------+------------+--------+---------+\n",
      "|      1| ooh|      1|          1|      1|Angus Young, Malc...|      343719|11170334|     0.99|\n",
      "|      2| ooh|      2|          2|      1|                null|      342562| 5510424|     0.99|\n",
      "|      3| ooh|      3|          2|      1|F. Baltes, S. Kau...|      230619| 3990994|     0.99|\n",
      "|      4| ooh|      3|          2|      1|F. Baltes, R.A. S...|      252051| 4331779|     0.99|\n",
      "|      5| ooh|      3|          2|      1|Deaffy & R.A. Smi...|      375418| 6290521|     0.99|\n",
      "|      6| ooh|      1|          1|      1|Angus Young, Malc...|      205662| 6713451|     0.99|\n",
      "|      7| ooh|      1|          1|      1|Angus Young, Malc...|      233926| 7636561|     0.99|\n",
      "|      8| ooh|      1|          1|      1|Angus Young, Malc...|      210834| 6852860|     0.99|\n",
      "|      9| ooh|      1|          1|      1|Angus Young, Malc...|      203102| 6599424|     0.99|\n",
      "|     10| ooh|      1|          1|      1|Angus Young, Malc...|      263497| 8611245|     0.99|\n",
      "|     11| ooh|      1|          1|      1|Angus Young, Malc...|      199836| 6566314|     0.99|\n",
      "|     12| ooh|      1|          1|      1|Angus Young, Malc...|      263288| 8596840|     0.99|\n",
      "|     13| ooh|      1|          1|      1|Angus Young, Malc...|      205688| 6706347|     0.99|\n",
      "|     14| ooh|      1|          1|      1|Angus Young, Malc...|      270863| 8817038|     0.99|\n",
      "|     15| ooh|      4|          1|      1|               AC/DC|      331180|10847611|     0.99|\n",
      "|     16| ooh|      4|          1|      1|               AC/DC|      215196| 7032162|     0.99|\n",
      "|     17| ooh|      4|          1|      1|               AC/DC|      366654|12021261|     0.99|\n",
      "|     18| ooh|      4|          1|      1|               AC/DC|      267728| 8776140|     0.99|\n",
      "|     19| ooh|      4|          1|      1|               AC/DC|      325041|10617116|     0.99|\n",
      "|     20| ooh|      4|          1|      1|               AC/DC|      369319|12066294|     0.99|\n",
      "+-------+----+-------+-----------+-------+--------------------+------------+--------+---------+\n",
      "only showing top 20 rows\n",
      "\n"
     ]
    }
   ],
   "source": [
    "from pyspark.sql.functions import lit\n",
    "df = df_source.withColumn('Name', lit('ooh'))\n",
    "df.show()"
   ]
  },
  {
   "cell_type": "code",
   "execution_count": 16,
   "metadata": {},
   "outputs": [
    {
     "name": "stdout",
     "output_type": "stream",
     "text": [
      "+-------+----+-------+-----------+-------+--------------------+------------+--------+---------+\n",
      "|TrackId|Name|AlbumId|MediaTypeId|GenreId|            Composer|Milliseconds|   Bytes|UnitPrice|\n",
      "+-------+----+-------+-----------+-------+--------------------+------------+--------+---------+\n",
      "|      1| ooh|      1|          1|      1|Angus Young, Malc...|      343719|11170334|     0.99|\n",
      "|      2| ooh|      2|          2|      1|                null|      342562| 5510424|     0.99|\n",
      "|      3| ooh|      3|          2|      1|F. Baltes, S. Kau...|      230619| 3990994|     0.99|\n",
      "|      4| ooh|      3|          2|      1|F. Baltes, R.A. S...|      252051| 4331779|     0.99|\n",
      "|      5| ooh|      3|          2|      1|Deaffy & R.A. Smi...|      375418| 6290521|     0.99|\n",
      "|      6| ooh|      1|          1|      1|Angus Young, Malc...|      205662| 6713451|     0.99|\n",
      "|      7| ooh|      1|          1|      1|Angus Young, Malc...|      233926| 7636561|     0.99|\n",
      "|      8| ooh|      1|          1|      1|Angus Young, Malc...|      210834| 6852860|     0.99|\n",
      "|      9| ooh|      1|          1|      1|Angus Young, Malc...|      203102| 6599424|     0.99|\n",
      "|     10| ooh|      1|          1|      1|Angus Young, Malc...|      263497| 8611245|     0.99|\n",
      "|     11| ooh|      1|          1|      1|Angus Young, Malc...|      199836| 6566314|     0.99|\n",
      "|     12| ooh|      1|          1|      1|Angus Young, Malc...|      263288| 8596840|     0.99|\n",
      "|     13| ooh|      1|          1|      1|Angus Young, Malc...|      205688| 6706347|     0.99|\n",
      "|     14| ooh|      1|          1|      1|Angus Young, Malc...|      270863| 8817038|     0.99|\n",
      "|     15| ooh|      4|          1|      1|               AC/DC|      331180|10847611|     0.99|\n",
      "|     16| ooh|      4|          1|      1|               AC/DC|      215196| 7032162|     0.99|\n",
      "|     17| ooh|      4|          1|      1|               AC/DC|      366654|12021261|     0.99|\n",
      "|     18| ooh|      4|          1|      1|               AC/DC|      267728| 8776140|     0.99|\n",
      "|     19| ooh|      4|          1|      1|               AC/DC|      325041|10617116|     0.99|\n",
      "|     20| ooh|      4|          1|      1|               AC/DC|      369319|12066294|     0.99|\n",
      "+-------+----+-------+-----------+-------+--------------------+------------+--------+---------+\n",
      "only showing top 20 rows\n",
      "\n"
     ]
    }
   ],
   "source": [
    "engine.write(df, '.music', mode='overwrite')\n",
    "df.show()"
   ]
  },
  {
   "cell_type": "code",
   "execution_count": 17,
   "metadata": {},
   "outputs": [
    {
     "name": "stdout",
     "output_type": "stream",
     "text": [
      "+---+---+\n",
      "|_c0|_c1|\n",
      "+---+---+\n",
      "|  1|ooh|\n",
      "|  2|ooh|\n",
      "|  3|ooh|\n",
      "|  4|ooh|\n",
      "|  5|ooh|\n",
      "|  6|ooh|\n",
      "|  7|ooh|\n",
      "|  8|ooh|\n",
      "|  9|ooh|\n",
      "| 10|ooh|\n",
      "| 11|ooh|\n",
      "| 12|ooh|\n",
      "| 13|ooh|\n",
      "| 14|ooh|\n",
      "| 15|ooh|\n",
      "| 16|ooh|\n",
      "| 17|ooh|\n",
      "| 18|ooh|\n",
      "| 19|ooh|\n",
      "| 20|ooh|\n",
      "+---+---+\n",
      "only showing top 20 rows\n",
      "\n"
     ]
    }
   ],
   "source": [
    "df_output = engine.read('.output')\n",
    "df_output.show()"
   ]
  },
  {
   "cell_type": "code",
   "execution_count": null,
   "metadata": {},
   "outputs": [],
   "source": []
  }
 ],
 "metadata": {
  "kernelspec": {
   "display_name": "Python 3",
   "language": "python",
   "name": "python3"
  },
  "language_info": {
   "codemirror_mode": {
    "name": "ipython",
    "version": 3
   },
   "file_extension": ".py",
   "mimetype": "text/x-python",
   "name": "python",
   "nbconvert_exporter": "python",
   "pygments_lexer": "ipython3",
   "version": "3.6.5"
  }
 },
 "nbformat": 4,
 "nbformat_minor": 2
}
