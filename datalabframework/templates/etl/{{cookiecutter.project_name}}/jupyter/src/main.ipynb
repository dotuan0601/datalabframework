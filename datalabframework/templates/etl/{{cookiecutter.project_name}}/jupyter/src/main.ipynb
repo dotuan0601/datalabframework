{
 "cells": [
  {
   "cell_type": "markdown",
   "metadata": {},
   "source": [
    "# Titanic"
   ]
  },
  {
   "cell_type": "markdown",
   "metadata": {},
   "source": [
    "This data science project is about setting good practices while building data science models. For this particular example, we are going to use the titanic dataset, and work both with pandas and spark."
   ]
  },
  {
   "cell_type": "markdown",
   "metadata": {},
   "source": [
    "## References ##  \n",
    "\n",
    "For a more detailed overview about the project template and the datalabframework package, please refer to the notebooks in the [how to directory](publish/reports/howto/howto.ipynb).\n",
    "\n",
    "  - [ETL](etl/main.ipynb)\n",
    "  - [Models](models/main.ipnb)\n",
    "  - [Reports](publish/reports/main.ipynb)\n",
    "  "
   ]
  },
  {
   "cell_type": "markdown",
   "metadata": {},
   "source": [
    "## Data ##\n",
    "\n",
    "The Titanic dataset is provided by Kaggle."
   ]
  },
  {
   "cell_type": "code",
   "execution_count": 1,
   "metadata": {},
   "outputs": [],
   "source": [
    "import datalabframework as dlf"
   ]
  },
  {
   "cell_type": "code",
   "execution_count": 4,
   "metadata": {},
   "outputs": [
    {
     "name": "stdout",
     "output_type": "stream",
     "text": [
      "engines:\n",
      "  spark:\n",
      "    config:\n",
      "      jobname: default\n",
      "      master: spark://spark-master:7077\n",
      "    context: spark\n",
      "loggers:\n",
      "  kafka:\n",
      "    enable: true\n",
      "    hosts:\n",
      "    - kafka:9092\n",
      "    severity: info\n",
      "    topic: datalabframework\n",
      "  stream:\n",
      "    enable: true\n",
      "    severity: info\n",
      "providers:\n",
      "  chinook:\n",
      "    path: ../data/datasets/raw/chinook.db\n",
      "    service: sqlite\n",
      "  local:\n",
      "    rootpath: ../data\n",
      "    service: fs\n",
      "  mydatabase:\n",
      "    database: mydatabase\n",
      "    hostname: localhost\n",
      "    password: root\n",
      "    port: 3306\n",
      "    service: mysql\n",
      "    username: root\n",
      "resources:\n",
      "  .customers:\n",
      "    provider: mydatabase\n",
      "    table: customers\n",
      "  .etl.raw.test:\n",
      "    format: csv\n",
      "    path: datasets/raw/test.csv\n",
      "    provider: local\n",
      "  .etl.raw.train:\n",
      "    format: csv\n",
      "    path: datasets/raw/train.csv\n",
      "    provider: local\n",
      "  .music:\n",
      "    provider: chinook\n",
      "    table: tracks\n",
      "  .output:\n",
      "    format: csv\n",
      "    path: datasets/raw/ohohoh.csv\n",
      "    provider: local\n",
      "run: default\n",
      "\n"
     ]
    }
   ],
   "source": [
    "metadata = dlf.params.metadata()\n",
    "dlf.utils.pretty_print(metadata)"
   ]
  },
  {
   "cell_type": "code",
   "execution_count": 3,
   "metadata": {},
   "outputs": [
    {
     "name": "stdout",
     "output_type": "stream",
     "text": [
      "- metadata.yml\n",
      "- etl/raw/metadata.yml\n",
      "- etl/features/metadata.yml\n",
      "- etl/extract/metadata.yml\n",
      "- etl/clean/metadata.yml\n",
      "\n"
     ]
    }
   ],
   "source": [
    "metadata_info = dlf.params.metadata_files()\n",
    "dlf.utils.pretty_print(metadata_info)"
   ]
  },
  {
   "cell_type": "code",
   "execution_count": 4,
   "metadata": {},
   "outputs": [
    {
     "data": {
      "text/plain": [
       "'/home/jovyan/src/main.ipynb'"
      ]
     },
     "execution_count": 4,
     "metadata": {},
     "output_type": "execute_result"
    }
   ],
   "source": [
    "dlf.project.filename(False)"
   ]
  },
  {
   "cell_type": "code",
   "execution_count": 5,
   "metadata": {},
   "outputs": [
    {
     "data": {
      "text/plain": [
       "'main.ipynb'"
      ]
     },
     "execution_count": 5,
     "metadata": {},
     "output_type": "execute_result"
    }
   ],
   "source": [
    "dlf.project.filename()"
   ]
  },
  {
   "cell_type": "code",
   "execution_count": 6,
   "metadata": {},
   "outputs": [
    {
     "data": {
      "text/plain": [
       "'/home/jovyan/src'"
      ]
     },
     "execution_count": 6,
     "metadata": {},
     "output_type": "execute_result"
    }
   ],
   "source": [
    "dlf.project.rootpath()"
   ]
  },
  {
   "cell_type": "code",
   "execution_count": 7,
   "metadata": {},
   "outputs": [
    {
     "name": "stdout",
     "output_type": "stream",
     "text": [
      "filename: main.ipynb\n",
      "rootpath: /home/jovyan/src\n",
      "workdir: /home/jovyan/src\n",
      "workrun: default\n",
      "\n"
     ]
    }
   ],
   "source": [
    "dlf.utils.pretty_print(dlf.project.info())"
   ]
  },
  {
   "cell_type": "code",
   "execution_count": null,
   "metadata": {},
   "outputs": [],
   "source": []
  },
  {
   "cell_type": "code",
   "execution_count": null,
   "metadata": {},
   "outputs": [],
   "source": []
  },
  {
   "cell_type": "code",
   "execution_count": null,
   "metadata": {},
   "outputs": [],
   "source": []
  }
 ],
 "metadata": {
  "kernelspec": {
   "display_name": "Python 3",
   "language": "python",
   "name": "python3"
  },
  "language_info": {
   "codemirror_mode": {
    "name": "ipython",
    "version": 3
   },
   "file_extension": ".py",
   "mimetype": "text/x-python",
   "name": "python",
   "nbconvert_exporter": "python",
   "pygments_lexer": "ipython3",
   "version": "3.6.5"
  }
 },
 "nbformat": 4,
 "nbformat_minor": 2
}
